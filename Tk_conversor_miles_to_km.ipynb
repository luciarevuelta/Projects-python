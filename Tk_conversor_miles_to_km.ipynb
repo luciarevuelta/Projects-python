{
 "cells": [
  {
   "cell_type": "code",
   "execution_count": 1,
   "id": "fab6b897-3ef0-43eb-8299-dced89f28701",
   "metadata": {},
   "outputs": [],
   "source": [
    "import tkinter"
   ]
  },
  {
   "cell_type": "code",
   "execution_count": 14,
   "id": "7c287c5e-436c-4d21-83a9-95beccdca012",
   "metadata": {},
   "outputs": [
    {
     "name": "stdout",
     "output_type": "stream",
     "text": [
      "\n"
     ]
    }
   ],
   "source": [
    "window = tkinter.Tk()\n",
    "window.title(\"Mile to Km Convert\")\n",
    "window.minsize(width = 500, height = 300)\n",
    "\n",
    "#LABELS\n",
    "\n",
    "\n",
    "label_miles = tkinter.Label(window,text = \"Miles\", font =(\"Arial\",12))\n",
    "label_miles.config(text = \"Miles\")\n",
    "label_miles.grid(column=2, row=0)\n",
    "\n",
    "label_km = tkinter.Label(window,text = \"Km\", font =(\"Arial\",12))\n",
    "label_km.config(text = \"Km\")\n",
    "label_km.grid(column=2, row=1)\n",
    "\n",
    "label_equal = tkinter.Label(window,text = \"is equal to\", font = (\"Arial\",12))\n",
    "label_equal.config(text = \"is equal to\")\n",
    "label_equal.grid(column=0, row=1)\n",
    "\n",
    "\n",
    "#ENTRY\n",
    "\n",
    "\n",
    "entry1 = tkinter.Entry(width = 10)\n",
    "print(entry1.get())\n",
    "entry1.grid(column=1,row =0)\n",
    "\n",
    "#FUNCTION\n",
    "\n",
    "def convert_mile_to_km():\n",
    "    value = entry1.get()\n",
    "    label_result = tkinter.Label(text = f\"The result is {float(value)*1.609344}\")\n",
    "    label_result.config(text = f\" {float(value)*1.609344}\")\n",
    "    label_result.grid(column = 1, row=1)\n",
    "    \n",
    "# BUTTON\n",
    "\n",
    "button = tkinter.Button(text = \"Calculate\", command = convert_mile_to_km)\n",
    "button.grid(column = 1, row = 2)\n",
    "\n",
    "\n",
    "\n",
    "# MANTENER WINDOWS ABIERTA\n",
    "\n",
    "window.mainloop()"
   ]
  },
  {
   "cell_type": "code",
   "execution_count": 110,
   "id": "1df415c6-1009-4611-91c8-977bce40132b",
   "metadata": {
    "tags": []
   },
   "outputs": [
    {
     "name": "stdout",
     "output_type": "stream",
     "text": [
      "\n"
     ]
    }
   ],
   "source": [
    "window = tkinter.Tk()\n",
    "window.title(\"My First GUI Program\")\n",
    "window.minsize(width = 500, height = 300)\n",
    "window.config(padx=100,pady=200)\n",
    "\n",
    "#label\n",
    "\n",
    "\n",
    "my_label = tkinter.Label(text = \"I am a Label\", font =(\"Arial\",24, \"italic\"))\n",
    "my_label.place(x=100,y=200)\n",
    "my_label.config(text = \"new_text\")\n",
    "my_label.grid(column=0, row=0)\n",
    "my_label.config(padx=50, pady = 50)\n",
    "\n",
    "#button\n",
    "\n",
    "def button_clicked():\n",
    "    print(\"I got clicked\")\n",
    "    new_text = input.get()\n",
    "   \n",
    "    \n",
    "    \n",
    "button = tkinter.Button(text = \"Click Me\", command = button_clicked)\n",
    "button.grid(column = 1, row=1)\n",
    "button2 = tkinter.Button(text = \"Click othe click\", command = button_clicked)\n",
    "button2.grid(column = 3, row=0)\n",
    "\n",
    "\n",
    "# Entry\n",
    "\n",
    "input = tkinter.Entry(width = 10)\n",
    "print(input.get())\n",
    "input.grid(column=4,row =3)\n",
    "\n",
    "window.mainloop()"
   ]
  },
  {
   "cell_type": "code",
   "execution_count": 158,
   "id": "76b4ba12-812e-48b2-9c93-781d7e8d0f39",
   "metadata": {},
   "outputs": [
    {
     "ename": "TclError",
     "evalue": "bad window path name \".!button6\"",
     "output_type": "error",
     "traceback": [
      "\u001b[0;31m---------------------------------------------------------------------------\u001b[0m",
      "\u001b[0;31mTclError\u001b[0m                                  Traceback (most recent call last)",
      "Input \u001b[0;32mIn [158]\u001b[0m, in \u001b[0;36m<cell line: 30>\u001b[0;34m()\u001b[0m\n\u001b[1;32m     26\u001b[0m     canvas1\u001b[38;5;241m.\u001b[39mcreate_window(\u001b[38;5;241m200\u001b[39m, \u001b[38;5;241m230\u001b[39m, window\u001b[38;5;241m=\u001b[39mlabel4)\n\u001b[1;32m     28\u001b[0m button1 \u001b[38;5;241m=\u001b[39m tk\u001b[38;5;241m.\u001b[39mButton(text\u001b[38;5;241m=\u001b[39m\u001b[38;5;124m'\u001b[39m\u001b[38;5;124mGet the Square Root\u001b[39m\u001b[38;5;124m'\u001b[39m, command\u001b[38;5;241m=\u001b[39mget_square_root, \n\u001b[1;32m     29\u001b[0m                     bg\u001b[38;5;241m=\u001b[39m\u001b[38;5;124m'\u001b[39m\u001b[38;5;124mbrown\u001b[39m\u001b[38;5;124m'\u001b[39m, fg\u001b[38;5;241m=\u001b[39m\u001b[38;5;124m'\u001b[39m\u001b[38;5;124mwhite\u001b[39m\u001b[38;5;124m'\u001b[39m, font\u001b[38;5;241m=\u001b[39m(\u001b[38;5;124m'\u001b[39m\u001b[38;5;124mhelvetica\u001b[39m\u001b[38;5;124m'\u001b[39m, \u001b[38;5;241m9\u001b[39m, \u001b[38;5;124m'\u001b[39m\u001b[38;5;124mbold\u001b[39m\u001b[38;5;124m'\u001b[39m))\n\u001b[0;32m---> 30\u001b[0m \u001b[43mcanvas1\u001b[49m\u001b[38;5;241;43m.\u001b[39;49m\u001b[43mcreate_window\u001b[49m\u001b[43m(\u001b[49m\u001b[38;5;241;43m200\u001b[39;49m\u001b[43m,\u001b[49m\u001b[43m \u001b[49m\u001b[38;5;241;43m180\u001b[39;49m\u001b[43m,\u001b[49m\u001b[43m \u001b[49m\u001b[43mwindow\u001b[49m\u001b[38;5;241;43m=\u001b[39;49m\u001b[43mbutton1\u001b[49m\u001b[43m)\u001b[49m\n\u001b[1;32m     32\u001b[0m root\u001b[38;5;241m.\u001b[39mmainloop()\n",
      "File \u001b[0;32m/usr/lib/python3.8/tkinter/__init__.py:2814\u001b[0m, in \u001b[0;36mCanvas.create_window\u001b[0;34m(self, *args, **kw)\u001b[0m\n\u001b[1;32m   2812\u001b[0m \u001b[38;5;28;01mdef\u001b[39;00m \u001b[38;5;21mcreate_window\u001b[39m(\u001b[38;5;28mself\u001b[39m, \u001b[38;5;241m*\u001b[39margs, \u001b[38;5;241m*\u001b[39m\u001b[38;5;241m*\u001b[39mkw):\n\u001b[1;32m   2813\u001b[0m     \u001b[38;5;124;03m\"\"\"Create window with coordinates x1,y1,x2,y2.\"\"\"\u001b[39;00m\n\u001b[0;32m-> 2814\u001b[0m     \u001b[38;5;28;01mreturn\u001b[39;00m \u001b[38;5;28;43mself\u001b[39;49m\u001b[38;5;241;43m.\u001b[39;49m\u001b[43m_create\u001b[49m\u001b[43m(\u001b[49m\u001b[38;5;124;43m'\u001b[39;49m\u001b[38;5;124;43mwindow\u001b[39;49m\u001b[38;5;124;43m'\u001b[39;49m\u001b[43m,\u001b[49m\u001b[43m \u001b[49m\u001b[43margs\u001b[49m\u001b[43m,\u001b[49m\u001b[43m \u001b[49m\u001b[43mkw\u001b[49m\u001b[43m)\u001b[49m\n",
      "File \u001b[0;32m/usr/lib/python3.8/tkinter/__init__.py:2776\u001b[0m, in \u001b[0;36mCanvas._create\u001b[0;34m(self, itemType, args, kw)\u001b[0m\n\u001b[1;32m   2774\u001b[0m \u001b[38;5;28;01melse\u001b[39;00m:\n\u001b[1;32m   2775\u001b[0m     cnf \u001b[38;5;241m=\u001b[39m {}\n\u001b[0;32m-> 2776\u001b[0m \u001b[38;5;28;01mreturn\u001b[39;00m \u001b[38;5;28mself\u001b[39m\u001b[38;5;241m.\u001b[39mtk\u001b[38;5;241m.\u001b[39mgetint(\u001b[38;5;28;43mself\u001b[39;49m\u001b[38;5;241;43m.\u001b[39;49m\u001b[43mtk\u001b[49m\u001b[38;5;241;43m.\u001b[39;49m\u001b[43mcall\u001b[49m\u001b[43m(\u001b[49m\n\u001b[1;32m   2777\u001b[0m \u001b[43m    \u001b[49m\u001b[38;5;28;43mself\u001b[39;49m\u001b[38;5;241;43m.\u001b[39;49m\u001b[43m_w\u001b[49m\u001b[43m,\u001b[49m\u001b[43m \u001b[49m\u001b[38;5;124;43m'\u001b[39;49m\u001b[38;5;124;43mcreate\u001b[39;49m\u001b[38;5;124;43m'\u001b[39;49m\u001b[43m,\u001b[49m\u001b[43m \u001b[49m\u001b[43mitemType\u001b[49m\u001b[43m,\u001b[49m\n\u001b[1;32m   2778\u001b[0m \u001b[43m    \u001b[49m\u001b[38;5;241;43m*\u001b[39;49m\u001b[43m(\u001b[49m\u001b[43margs\u001b[49m\u001b[43m \u001b[49m\u001b[38;5;241;43m+\u001b[39;49m\u001b[43m \u001b[49m\u001b[38;5;28;43mself\u001b[39;49m\u001b[38;5;241;43m.\u001b[39;49m\u001b[43m_options\u001b[49m\u001b[43m(\u001b[49m\u001b[43mcnf\u001b[49m\u001b[43m,\u001b[49m\u001b[43m \u001b[49m\u001b[43mkw\u001b[49m\u001b[43m)\u001b[49m\u001b[43m)\u001b[49m\u001b[43m)\u001b[49m)\n",
      "\u001b[0;31mTclError\u001b[0m: bad window path name \".!button6\""
     ]
    }
   ],
   "source": [
    "import tkinter as tk\n",
    "\n",
    "root= tk.Tk()\n",
    "\n",
    "canvas1 = tk.Canvas(root, width=400, height=300, relief='raised')\n",
    "canvas1.pack()\n",
    "\n",
    "label1 = tk.Label(root, text='Calculate the Square Root')\n",
    "label1.config(font=('helvetica', 14))\n",
    "canvas1.create_window(200, 25, window=label1)\n",
    "\n",
    "label2 = tk.Label(root, text='Type your Number:')\n",
    "label2.config(font=('helvetica', 10))\n",
    "canvas1.create_window(200, 100, window=label2)\n",
    "\n",
    "entry1 = tk.Entry(root) \n",
    "canvas1.create_window(200, 140, window=entry1)\n",
    "\n",
    "def get_square_root():\n",
    "    x1 = entry1.get()\n",
    "    \n",
    "    label3 = tk.Label(root, text='The Square Root of ' + x1 + ' is:', font=('helvetica', 10))\n",
    "    canvas1.create_window(200, 210, window=label3)\n",
    "    \n",
    "    label4 = tk.Label(root, text=float(x1)**0.5, font=('helvetica', 10, 'bold'))\n",
    "    canvas1.create_window(200, 230, window=label4)\n",
    "    \n",
    "button1 = tk.Button(text='Get the Square Root', command=get_square_root, \n",
    "                    bg='brown', fg='white', font=('helvetica', 9, 'bold'))\n",
    "canvas1.create_window(200, 180, window=button1)\n",
    "\n",
    "root.mainloop()\n"
   ]
  },
  {
   "cell_type": "code",
   "execution_count": 89,
   "id": "17bded70-c76e-489d-aed3-dc09a31b91a3",
   "metadata": {},
   "outputs": [
    {
     "name": "stdout",
     "output_type": "stream",
     "text": [
      "20 4 6\n"
     ]
    }
   ],
   "source": [
    "def foo(a,b=4,c=6):\n",
    "    print(a,b,c)\n",
    "foo(20, c=6)\n"
   ]
  },
  {
   "cell_type": "code",
   "execution_count": 50,
   "id": "fbf439f4-6f9b-458e-b042-043ddcc1930d",
   "metadata": {},
   "outputs": [],
   "source": [
    "def add(*numbers):\n",
    "    suma = 0\n",
    "    for number in numbers:\n",
    "        suma= number +nu\n"
   ]
  },
  {
   "cell_type": "code",
   "execution_count": 51,
   "id": "846c0d08-ec17-43f6-8f16-b5ab97e7194d",
   "metadata": {},
   "outputs": [
    {
     "name": "stdout",
     "output_type": "stream",
     "text": [
      "1\n",
      "2\n",
      "3\n"
     ]
    }
   ],
   "source": [
    "add(5,4,3)"
   ]
  },
  {
   "cell_type": "code",
   "execution_count": 60,
   "id": "cd22bef2-3551-4200-a1d2-800b9920e17d",
   "metadata": {},
   "outputs": [],
   "source": [
    "def summ(*args):\n",
    "    suma = 0\n",
    "    for num in args:\n",
    "        suma +=num\n",
    "    return suma"
   ]
  },
  {
   "cell_type": "code",
   "execution_count": 61,
   "id": "35dfa068-4e7b-43ca-bfcd-a113db8cac55",
   "metadata": {},
   "outputs": [
    {
     "data": {
      "text/plain": [
       "20"
      ]
     },
     "execution_count": 61,
     "metadata": {},
     "output_type": "execute_result"
    }
   ],
   "source": [
    "summ(5,5,5,5)"
   ]
  },
  {
   "cell_type": "code",
   "execution_count": 64,
   "id": "dc067fd7-4658-456d-afc5-e0027cfae6ef",
   "metadata": {},
   "outputs": [
    {
     "name": "stdout",
     "output_type": "stream",
     "text": [
      "1 2 yes please! 0\n"
     ]
    }
   ],
   "source": [
    "def bar(spam,eggs,toast = 'yes please!', ham = 0):\n",
    "    print(spam,eggs,toast,ham)\n",
    "bar(1,2)"
   ]
  },
  {
   "cell_type": "code",
   "execution_count": 65,
   "id": "480b3e64-cfbc-4788-9928-9bb3a7a732fd",
   "metadata": {},
   "outputs": [],
   "source": [
    "def test(*args):\n",
    "    print(args)"
   ]
  },
  {
   "cell_type": "code",
   "execution_count": 66,
   "id": "c72d1b24-5dd2-40f6-85ce-9e2d448fe029",
   "metadata": {},
   "outputs": [
    {
     "name": "stdout",
     "output_type": "stream",
     "text": [
      "(1, 2, 3, 4)\n"
     ]
    }
   ],
   "source": [
    "test(1,2,3,4)"
   ]
  },
  {
   "cell_type": "code",
   "execution_count": 67,
   "id": "975d7f81-2b39-4118-ae3b-79e860254f3d",
   "metadata": {},
   "outputs": [
    {
     "name": "stdout",
     "output_type": "stream",
     "text": [
      "4 (7, 3, 0) {'x': 10, 'y': 64}\n"
     ]
    }
   ],
   "source": [
    "def all_aboard(a,*args,**kw):\n",
    "    print(a,args,kw)\n",
    "    \n",
    "all_aboard(4,7,3,0,x=10,y=64)"
   ]
  },
  {
   "cell_type": "code",
   "execution_count": null,
   "id": "a588813b-fe97-4459-916d-fa6a4f93c140",
   "metadata": {},
   "outputs": [],
   "source": []
  }
 ],
 "metadata": {
  "kernelspec": {
   "display_name": "Python 3 (ipykernel)",
   "language": "python",
   "name": "python3"
  },
  "language_info": {
   "codemirror_mode": {
    "name": "ipython",
    "version": 3
   },
   "file_extension": ".py",
   "mimetype": "text/x-python",
   "name": "python",
   "nbconvert_exporter": "python",
   "pygments_lexer": "ipython3",
   "version": "3.8.10"
  }
 },
 "nbformat": 4,
 "nbformat_minor": 5
}
